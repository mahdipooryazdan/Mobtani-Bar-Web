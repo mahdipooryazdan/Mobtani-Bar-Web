{
 "cells": [
  {
   "cell_type": "markdown",
   "metadata": {},
   "source": [
    "##Tamrin Class"
   ]
  },
  {
   "cell_type": "code",
   "execution_count": 1,
   "metadata": {},
   "outputs": [
    {
     "name": "stdout",
     "output_type": "stream",
     "text": [
      "Car Info: 1383 Saypa Pride\n"
     ]
    }
   ],
   "source": [
    "class Car:\n",
    "    def __init__(self, make, model, year):\n",
    "        self.make = make\n",
    "        self.model = model\n",
    "        self.year = year\n",
    "\n",
    "    def display_info(self):\n",
    "        return f\"Car Info: {self.year} {self.make} {self.model}\"\n",
    "\n",
    "\n",
    "car = Car(\"Saypa\", \"Pride\", 1383)\n",
    "print(car.display_info())\n"
   ]
  },
  {
   "cell_type": "code",
   "execution_count": 2,
   "metadata": {},
   "outputs": [
    {
     "name": "stdout",
     "output_type": "stream",
     "text": [
      "Area: 50\n"
     ]
    }
   ],
   "source": [
    "class Rectangle:\n",
    "    def __init__(self, width, height):\n",
    "        self.width = width\n",
    "        self.height = height\n",
    "\n",
    "    def area(self):\n",
    "        return self.width * self.height\n",
    "    \n",
    "rectangle = Rectangle(5, 10)\n",
    "print(\"Area:\", rectangle.area())\n"
   ]
  },
  {
   "cell_type": "code",
   "execution_count": 4,
   "metadata": {},
   "outputs": [
    {
     "name": "stdout",
     "output_type": "stream",
     "text": [
      "Deposited: 50000. New Balance: 550000\n",
      "Withdrawn: 30000. Remaining Balance: 520000\n",
      "Balance: 520000\n"
     ]
    }
   ],
   "source": [
    "class BankAccount:\n",
    "    def __init__(self, account_number, account_holder, balance):\n",
    "        self.account_number = account_number\n",
    "        self.account_holder = account_holder\n",
    "        self.balance = balance\n",
    "\n",
    "    def deposit(self, amount):\n",
    "        if amount > 0:\n",
    "            self.balance += amount\n",
    "            return f\"Deposited: {amount}. New Balance: {self.balance}\"\n",
    "        return \"Deposit amount must be positive.\"\n",
    "\n",
    "    def withdraw(self, amount):\n",
    "        if 0 < amount <= self.balance:\n",
    "            self.balance -= amount\n",
    "            return f\"Withdrawn: {amount}. Remaining Balance: {self.balance}\"\n",
    "        return \"Insufficient balance or invalid amount.\"\n",
    "\n",
    "    def display_balance(self):\n",
    "        return f\"Balance: {self.balance}\"\n",
    "\n",
    "\n",
    "account = BankAccount(\"6037\", \"Ali\", 500000)\n",
    "print(account.deposit(50000))\n",
    "print(account.withdraw(30000))\n",
    "print(account.display_balance())"
   ]
  },
  {
   "cell_type": "code",
   "execution_count": null,
   "metadata": {},
   "outputs": [],
   "source": [
    "class Animal:\n",
    "    def speak(self):\n",
    "        return \"Sound\"\n",
    "\n",
    "class Dog(Animal):\n",
    "    def speak(self):\n",
    "        return \"Hop Hop\"\n",
    "\n",
    "class Cat(Animal):\n",
    "    def speak(self):\n",
    "        return \"Meow\"\n",
    "\n",
    "animal = Animal()\n",
    "dog = Dog()\n",
    "cat = Cat()\n",
    "print(animal.speak())\n",
    "print(dog.speak())\n",
    "print(cat.speak())"
   ]
  },
  {
   "cell_type": "code",
   "execution_count": null,
   "metadata": {},
   "outputs": [],
   "source": [
    "class Counter:\n",
    "    def __init__(self):\n",
    "        self.count = 0\n",
    "\n",
    "    def increment(self):\n",
    "        self.count += 1\n",
    "        return self.count\n",
    "\n",
    "    def decrement(self):\n",
    "        self.count -= 1\n",
    "        return self.count\n",
    "\n",
    "    def reset(self):\n",
    "        self.count = 0\n",
    "        return self.count\n",
    "\n",
    "\n",
    "counter = Counter()\n",
    "print(\"Incremented to:\", counter.increment())\n",
    "print(\"Incremented to:\", counter.increment())\n",
    "print(\"Decremented to:\", counter.decrement())\n",
    "print(\"Reset to:\", counter.reset())\n"
   ]
  }
 ],
 "metadata": {
  "kernelspec": {
   "display_name": "Python 3",
   "language": "python",
   "name": "python3"
  },
  "language_info": {
   "codemirror_mode": {
    "name": "ipython",
    "version": 3
   },
   "file_extension": ".py",
   "mimetype": "text/x-python",
   "name": "python",
   "nbconvert_exporter": "python",
   "pygments_lexer": "ipython3",
   "version": "3.12.8"
  }
 },
 "nbformat": 4,
 "nbformat_minor": 2
}
