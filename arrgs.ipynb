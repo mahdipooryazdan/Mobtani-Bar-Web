{
 "cells": [
  {
   "cell_type": "markdown",
   "metadata": {},
   "source": [
    "##Tamrin Args KwArgs##"
   ]
  },
  {
   "cell_type": "code",
   "execution_count": 1,
   "metadata": {},
   "outputs": [
    {
     "name": "stdout",
     "output_type": "stream",
     "text": [
      "15\n"
     ]
    }
   ],
   "source": [
    "def sum_args(*args):\n",
    "    return sum(args)\n",
    "\n",
    "print(sum_args(1, 2, 3, 4, 5)) "
   ]
  },
  {
   "cell_type": "code",
   "execution_count": null,
   "metadata": {},
   "outputs": [],
   "source": [
    "def check_key(key, **kwargs):\n",
    "    return key in kwargs\n",
    "\n",
    "print(check_key(\"age\", name=\"Mahdi\", age=19)) \n",
    "print(check_key(\"Lastname\", name=\"Mahdi\", age=19)) "
   ]
  },
  {
   "cell_type": "code",
   "execution_count": null,
   "metadata": {},
   "outputs": [],
   "source": [
    "def print_cities(*cities):\n",
    "    for city in cities:\n",
    "        print(city)\n",
    "\n",
    "print_cities(\"Tehran\", \"Kerman\", \"Isfahan\")"
   ]
  },
  {
   "cell_type": "code",
   "execution_count": null,
   "metadata": {},
   "outputs": [],
   "source": [
    "def combine_info(**kwargs):\n",
    "    name = kwargs.get('name', 'Value')\n",
    "    age = kwargs.get('age', 'Value')\n",
    "    job = kwargs.get('job', 'Value')\n",
    "    print(f\"Name: {name}, Age: {age}, Job: {job}\")\n",
    "\n",
    "combine_info(name=\"Alice\", age=25, job=\"Engineer\")\n"
   ]
  },
  {
   "cell_type": "code",
   "execution_count": null,
   "metadata": {},
   "outputs": [],
   "source": [
    "def sum_cost(*costs):\n",
    "    total_cost = sum(costs)\n",
    "    print(f\"Sum Cost: {total_cost}\")\n",
    "\n",
    "sum_cost(100_000, 200_000, 300_000, 50_000)\n"
   ]
  }
 ],
 "metadata": {
  "kernelspec": {
   "display_name": "Python 3",
   "language": "python",
   "name": "python3"
  },
  "language_info": {
   "codemirror_mode": {
    "name": "ipython",
    "version": 3
   },
   "file_extension": ".py",
   "mimetype": "text/x-python",
   "name": "python",
   "nbconvert_exporter": "python",
   "pygments_lexer": "ipython3",
   "version": "3.12.8"
  }
 },
 "nbformat": 4,
 "nbformat_minor": 2
}
