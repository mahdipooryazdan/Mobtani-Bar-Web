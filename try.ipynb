{
 "cells": [
  {
   "cell_type": "markdown",
   "metadata": {},
   "source": [
    "## Tamrin Try except"
   ]
  },
  {
   "cell_type": "code",
   "execution_count": 1,
   "metadata": {},
   "outputs": [
    {
     "name": "stdout",
     "output_type": "stream",
     "text": [
      "5.0\n",
      "Error: Division by zero is not allowed.\n"
     ]
    }
   ],
   "source": [
    "def divide(a, b):\n",
    "    try:\n",
    "        return a / b\n",
    "    except ZeroDivisionError:\n",
    "        return \"Division by zero\"\n",
    "\n",
    "print(divide(10, 2))  \n",
    "print(divide(10, 0))  \n"
   ]
  },
  {
   "cell_type": "code",
   "execution_count": null,
   "metadata": {},
   "outputs": [],
   "source": [
    "def convert_to_number(string):\n",
    "    try:\n",
    "        return int(string)\n",
    "    except ValueError:\n",
    "        return \"Cannot Convert String to Number\"\n",
    "\n",
    "\n",
    "print(convert_to_number(\"123\"))  \n",
    "print(convert_to_number(\"abc\"))  \n"
   ]
  },
  {
   "cell_type": "code",
   "execution_count": 5,
   "metadata": {},
   "outputs": [
    {
     "name": "stdout",
     "output_type": "stream",
     "text": [
      "3.0\n",
      "Error: The list is empty\n"
     ]
    }
   ],
   "source": [
    "def average(numbers):\n",
    "    try:\n",
    "        if not numbers:\n",
    "            raise ValueError(\"The list is empty\")\n",
    "        return sum(numbers) / len(numbers)\n",
    "    except ValueError as e:\n",
    "        return f\"Error: {e}\"\n",
    "\n",
    "\n",
    "print(average([1, 2, 3, 4, 5])) \n",
    "print(average([]))  \n",
    "\n"
   ]
  },
  {
   "cell_type": "code",
   "execution_count": 6,
   "metadata": {},
   "outputs": [
    {
     "name": "stdout",
     "output_type": "stream",
     "text": [
      "5.0\n",
      "Error: Division by zero is not allowed.\n",
      "Error: Invalid input type, both inputs must be numbers.\n"
     ]
    }
   ],
   "source": [
    "def manage_exceptions(a, b):\n",
    "    try:\n",
    "        return a / b\n",
    "    except ZeroDivisionError:\n",
    "        return \"Error zero\"\n",
    "    except TypeError:\n",
    "        return \"ErrorInvalid type\"\n",
    "\n",
    "\n",
    "print(manage_exceptions(10, 2))  \n",
    "print(manage_exceptions(10, 0))  \n",
    "print(manage_exceptions(10, \"a\"))  \n"
   ]
  },
  {
   "cell_type": "code",
   "execution_count": 7,
   "metadata": {},
   "outputs": [
    {
     "name": "stdout",
     "output_type": "stream",
     "text": [
      "123\n",
      "45.6\n"
     ]
    }
   ],
   "source": [
    "def number_to_string(number):\n",
    "    try:\n",
    "        return str(number)\n",
    "    except Exception as e:\n",
    "        return e\n",
    "\n",
    "\n",
    "print(number_to_string(123))  \n",
    "print(number_to_string(45.6))  \n"
   ]
  }
 ],
 "metadata": {
  "kernelspec": {
   "display_name": "Python 3",
   "language": "python",
   "name": "python3"
  },
  "language_info": {
   "codemirror_mode": {
    "name": "ipython",
    "version": 3
   },
   "file_extension": ".py",
   "mimetype": "text/x-python",
   "name": "python",
   "nbconvert_exporter": "python",
   "pygments_lexer": "ipython3",
   "version": "3.12.8"
  }
 },
 "nbformat": 4,
 "nbformat_minor": 2
}
